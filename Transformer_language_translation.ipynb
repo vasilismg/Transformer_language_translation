{
 "cells": [
  {
   "cell_type": "markdown",
   "metadata": {},
   "source": [
    "# Transformer model for language translation\n",
    "\n",
    "In this notebook, I am implementing from scratch the Transformer, a network architecture that was proposed in the paper \"Attention Is All You Need\" (Vaswani et al., Attention is all you need, Advances in neural information processing systems, 2017) and I am applying it to translate sentences from Portuguese to English. The Transformer is based solely on attention mechanisms, without any use of LSTMs or RNNs.\n",
    "\n",
    "The dataset, the hyperparameters' values and the examples used for the evaluation were taken from https://www.tensorflow.org/tutorials/text/transformer for comparison reasons. The figures are taken from the above referenced paper.\n",
    "\n"
   ]
  },
  {
   "cell_type": "code",
   "execution_count": 1,
   "metadata": {},
   "outputs": [
    {
     "name": "stdout",
     "output_type": "stream",
     "text": [
      "1.15.0\n",
      "Eager execution: True\n"
     ]
    }
   ],
   "source": [
    "from __future__ import absolute_import, division, print_function, unicode_literals\n",
    "\n",
    "import time\n",
    "import numpy as np\n",
    "import matplotlib.pyplot as plt\n",
    "\n",
    "import os\n",
    "os.environ[\"CUDA_VISIBLE_DEVICES\"]=\"0\"\n",
    "\n",
    "import tensorflow_datasets as tfds\n",
    "import tensorflow as tf\n",
    "tf.enable_eager_execution()\n",
    "tf.executing_eagerly()\n",
    "\n",
    "print(tf.__version__)\n",
    "print(\"Eager execution: {}\".format(tf.executing_eagerly()))\n",
    "\n",
    "config = tf.ConfigProto()\n",
    "config.gpu_options.allow_growth=True"
   ]
  },
  {
   "cell_type": "code",
   "execution_count": 2,
   "metadata": {},
   "outputs": [
    {
     "name": "stdout",
     "output_type": "stream",
     "text": [
      "Default GPU Device: /device:GPU:0\n"
     ]
    }
   ],
   "source": [
    "import warnings\n",
    "\n",
    "# Check for a GPU\n",
    "if not tf.test.gpu_device_name():\n",
    "    warnings.warn('No GPU found. Please use a GPU to train your neural network.')\n",
    "else:\n",
    "    print('Default GPU Device: {}'.format(tf.test.gpu_device_name()))"
   ]
  },
  {
   "cell_type": "markdown",
   "metadata": {},
   "source": [
    "## Use of Portuguese-English translation dataset "
   ]
  },
  {
   "cell_type": "markdown",
   "metadata": {},
   "source": [
    "### The following cells which load and process the dataset were taken from https://www.tensorflow.org/tutorials/text/transformer"
   ]
  },
  {
   "cell_type": "code",
   "execution_count": 3,
   "metadata": {},
   "outputs": [],
   "source": [
    "examples, metadata = tfds.load('ted_hrlr_translate/pt_to_en', with_info=True,\n",
    "                               as_supervised=True)\n",
    "train_examples, val_examples = examples['train'], examples['validation']"
   ]
  },
  {
   "cell_type": "code",
   "execution_count": 4,
   "metadata": {},
   "outputs": [],
   "source": [
    "tokenizer_en = tfds.features.text.SubwordTextEncoder.build_from_corpus(\n",
    "    (en.numpy() for pt, en in train_examples), target_vocab_size=2**13)\n",
    "\n",
    "tokenizer_pt = tfds.features.text.SubwordTextEncoder.build_from_corpus(\n",
    "    (pt.numpy() for pt, en in train_examples), target_vocab_size=2**13)"
   ]
  },
  {
   "cell_type": "code",
   "execution_count": 5,
   "metadata": {},
   "outputs": [],
   "source": [
    "BUFFER_SIZE = 20000\n",
    "BATCH_SIZE = 64\n",
    "\n",
    "def encode(lang1, lang2):\n",
    "  lang1 = [tokenizer_pt.vocab_size] + tokenizer_pt.encode(\n",
    "      lang1.numpy()) + [tokenizer_pt.vocab_size+1]\n",
    "\n",
    "  lang2 = [tokenizer_en.vocab_size] + tokenizer_en.encode(\n",
    "      lang2.numpy()) + [tokenizer_en.vocab_size+1]\n",
    "  \n",
    "  return lang1, lang2\n",
    "\n",
    "def tf_encode(pt, en):\n",
    "  result_pt, result_en = tf.py_function(encode, [pt, en], [tf.int64, tf.int64])\n",
    "  result_pt.set_shape([None])\n",
    "  result_en.set_shape([None])\n",
    "\n",
    "  return result_pt, result_en\n",
    "\n",
    "MAX_LENGTH = 40\n",
    "\n",
    "def filter_max_length(x, y, max_length=MAX_LENGTH):\n",
    "    return tf.logical_and(tf.size(x) <= max_length,\n",
    "                        tf.size(y) <= max_length)"
   ]
  },
  {
   "cell_type": "code",
   "execution_count": 6,
   "metadata": {},
   "outputs": [],
   "source": [
    "train_preprocessed = (\n",
    "    train_examples\n",
    "    .map(tf_encode) \n",
    "    .filter(filter_max_length)\n",
    "    # cache the dataset to memory to get a speedup while reading from it.\n",
    "    .cache()\n",
    "    .shuffle(BUFFER_SIZE))\n",
    "\n",
    "val_preprocessed = (\n",
    "    val_examples\n",
    "    .map(tf_encode)\n",
    "    .filter(filter_max_length))  "
   ]
  },
  {
   "cell_type": "code",
   "execution_count": 7,
   "metadata": {},
   "outputs": [],
   "source": [
    "train_dataset = (train_preprocessed\n",
    "                 .padded_batch(BATCH_SIZE, padded_shapes=([None], [None]))\n",
    "                 .prefetch(tf.data.experimental.AUTOTUNE))\n",
    "\n",
    "val_dataset = (val_preprocessed\n",
    "               .padded_batch(BATCH_SIZE,  padded_shapes=([None], [None])))"
   ]
  },
  {
   "cell_type": "code",
   "execution_count": 8,
   "metadata": {},
   "outputs": [
    {
     "name": "stdout",
     "output_type": "stream",
     "text": [
      "8214\n",
      "8087\n"
     ]
    }
   ],
   "source": [
    "print(tokenizer_pt.vocab_size)\n",
    "print(tokenizer_en.vocab_size)"
   ]
  },
  {
   "cell_type": "code",
   "execution_count": 9,
   "metadata": {},
   "outputs": [],
   "source": [
    "# for i in range(tokenizer_en.vocab_size):\n",
    "#     print(i,tokenizer_en.decode([i]))"
   ]
  },
  {
   "cell_type": "code",
   "execution_count": 10,
   "metadata": {},
   "outputs": [],
   "source": [
    "# for i in range(tokenizer_pt.vocab_size):\n",
    "#     print(i,tokenizer_pt.decode([i]))"
   ]
  },
  {
   "cell_type": "markdown",
   "metadata": {},
   "source": [
    "## Training dataset"
   ]
  },
  {
   "cell_type": "code",
   "execution_count": 11,
   "metadata": {},
   "outputs": [],
   "source": [
    "# make the training dataset in proper format for TensorFlow 1.15\n",
    "X_train = []\n",
    "Y_train = []\n",
    "for (batch, (inp, tar)) in enumerate(train_dataset):\n",
    "    X_train.append(inp.numpy())\n",
    "    Y_train.append(tar.numpy())"
   ]
  },
  {
   "cell_type": "markdown",
   "metadata": {},
   "source": [
    "## Create input placeholders"
   ]
  },
  {
   "cell_type": "code",
   "execution_count": 12,
   "metadata": {},
   "outputs": [],
   "source": [
    "def build_inputs():\n",
    "    \n",
    "    inputs_ = tf.placeholder(tf.int32,[None,None],name='inputs_')\n",
    "    targets_inputs_ = tf.placeholder(tf.int32,[None,None],name='targets_inputs_')\n",
    "    targets_real_ = tf.placeholder(tf.int32,[None,None],name='targets_')\n",
    "    \n",
    "    return inputs_, targets_inputs_, targets_real_"
   ]
  },
  {
   "cell_type": "markdown",
   "metadata": {},
   "source": [
    "## Scaled dot product attention\n",
    "\n",
    "<img src=\"images/scaled_dot_product_attention.png\" style=\"width:300;height:300px;\"> <br>"
   ]
  },
  {
   "cell_type": "code",
   "execution_count": 13,
   "metadata": {},
   "outputs": [],
   "source": [
    "def scaled_dot_product_attention(q, k, v, mask):\n",
    " \n",
    "    # matmul\n",
    "    q_kTranspose = tf.matmul(q, tf.transpose(k, [0, 2, 1]))  # (batch_size, Tq, Tk)\n",
    "  \n",
    "    # scale \n",
    "    dk = tf.cast(tf.shape(k)[-1], tf.float32)\n",
    "    logits = q_kTranspose / tf.math.sqrt(dk)\n",
    "\n",
    "    # mask\n",
    "    if mask is not None:\n",
    "        logits += (mask * -1e9)  \n",
    "\n",
    "    # softmax \n",
    "    weights = tf.nn.softmax(logits, axis=-1)  # (batch_size, Tq, Tk)\n",
    "\n",
    "    # matmul\n",
    "    output = tf.matmul(weights, v)  # (batch_size, Tq, dv)\n",
    "\n",
    "    return output"
   ]
  },
  {
   "cell_type": "markdown",
   "metadata": {},
   "source": [
    "## Multi-Head Attention\n",
    "\n",
    "<img src=\"images/mha.png\" style=\"width:300;height:300px;\"> <br>"
   ]
  },
  {
   "cell_type": "code",
   "execution_count": 14,
   "metadata": {},
   "outputs": [],
   "source": [
    "def multi_head_attention(v, k, q, mask, d_model, num_heads, scope):\n",
    "    \n",
    "    with tf.variable_scope(scope,reuse=tf.AUTO_REUSE):\n",
    "    \n",
    "        q = tf.contrib.layers.fully_connected(q, d_model, activation_fn = None,\n",
    "                            weights_initializer = tf.keras.initializers.glorot_uniform()) \n",
    "        # (batch_size, Tq, d_model)\n",
    "        k = tf.contrib.layers.fully_connected(k, d_model, activation_fn = None,\n",
    "                            weights_initializer = tf.keras.initializers.glorot_uniform())\n",
    "        # (batch_size, Tk, d_model)\n",
    "        v = tf.contrib.layers.fully_connected(v, d_model, activation_fn = None,\n",
    "                            weights_initializer = tf.keras.initializers.glorot_uniform())\n",
    "        # (batch_size, Tv, d_model)\n",
    "            \n",
    "        q = tf.split(q, num_heads, axis=2) \n",
    "        k = tf.split(k, num_heads, axis=2) \n",
    "        v = tf.split(v, num_heads, axis=2) \n",
    "        # lists of num_heads elements with each of them having size (batch_size, T, d_model/num_heads) \n",
    "        # where T is Tq or Tk or Tv\n",
    "        \n",
    "        attention = []\n",
    "        for head_i in range(num_heads):\n",
    "            attention_i = scaled_dot_product_attention(q[head_i], k[head_i], v[head_i], mask)\n",
    "            # batch_size, Tq, d_model/num_heads)\n",
    "            attention.append(attention_i)\n",
    "        \n",
    "        concat_attention = tf.concat(attention, axis = 2) # (batch_size, Tq, d_model)\n",
    "        \n",
    "        output = tf.contrib.layers.fully_connected(concat_attention, d_model, activation_fn = None,\n",
    "                            weights_initializer = tf.keras.initializers.glorot_uniform())\n",
    "        # (batch_size, Tq, d_model)\n",
    "\n",
    "    return output"
   ]
  },
  {
   "cell_type": "markdown",
   "metadata": {},
   "source": [
    "## Position wise feed forward network\n",
    "\n",
    "<img src=\"images/pwffn.png\" style=\"width:50;height:50px;\"> <br>"
   ]
  },
  {
   "cell_type": "code",
   "execution_count": 15,
   "metadata": {},
   "outputs": [],
   "source": [
    "def point_wise_feed_forward_network(input_, d_model, d_ff, scope):\n",
    "\n",
    "    with tf.variable_scope(scope,reuse=tf.AUTO_REUSE):\n",
    "        x1 = tf.contrib.layers.fully_connected(input_, d_ff, activation_fn = tf.nn.relu,\n",
    "                            weights_initializer = tf.keras.initializers.glorot_uniform())  \n",
    "        # (batch_size, T, d_ff)\n",
    "        ffn = tf.contrib.layers.fully_connected(x1, d_model, activation_fn = None,\n",
    "                            weights_initializer = tf.keras.initializers.glorot_uniform()) \n",
    "        # (batch_size, T, d_model)\n",
    "            \n",
    "    return ffn"
   ]
  },
  {
   "cell_type": "markdown",
   "metadata": {},
   "source": [
    "## Encoder layer\n",
    "\n",
    "\n",
    "<img src=\"images/encoder_layer.png\" style=\"width:400;height:400px;\"> <br>"
   ]
  },
  {
   "cell_type": "code",
   "execution_count": 16,
   "metadata": {},
   "outputs": [],
   "source": [
    "def encoder_layer(x, mask, d_model, d_ff, num_heads, rate, scope):\n",
    "\n",
    "    with tf.variable_scope(scope,reuse=tf.AUTO_REUSE):\n",
    "        attention_output = multi_head_attention(x, x, x, mask, d_model, num_heads, 'mha')\n",
    "        attention_output = tf.nn.dropout(attention_output, rate = rate)\n",
    "        output_1 = tf.keras.layers.LayerNormalization(epsilon=1e-6)(x + attention_output)\n",
    "    \n",
    "        ffn_output = point_wise_feed_forward_network(output_1, d_model, d_ff, 'pwffn')\n",
    "        ffn_output = tf.nn.dropout(ffn_output, rate = rate)\n",
    "        output_2 = tf.keras.layers.LayerNormalization(epsilon=1e-6)(output_1 + ffn_output) \n",
    "    \n",
    "    return output_2"
   ]
  },
  {
   "cell_type": "markdown",
   "metadata": {},
   "source": [
    "## Decoder layer\n",
    "\n",
    "\n",
    "<img src=\"images/decoder_layer.png\" style=\"width:500;height:500px;\"> <br>"
   ]
  },
  {
   "cell_type": "code",
   "execution_count": 17,
   "metadata": {},
   "outputs": [],
   "source": [
    "def decoder_layer(y, encoder_output, padding_mask, future_mask, d_model, d_ff, num_heads, rate, scope):\n",
    "\n",
    "    with tf.variable_scope(scope,reuse=tf.AUTO_REUSE):\n",
    "        attention_output_1 = multi_head_attention(y, y, y, future_mask, \n",
    "                                                                    d_model, num_heads, 'mha_1')\n",
    "        attention_output_1 = tf.nn.dropout(attention_output_1, rate = rate)\n",
    "        output_1 = tf.keras.layers.LayerNormalization(epsilon=1e-6)(y + attention_output_1)\n",
    "\n",
    "        attention_output_2 = multi_head_attention(encoder_output, encoder_output, output_1, \n",
    "                                                                    padding_mask, d_model, num_heads, 'mha_2')\n",
    "        attention_output_2 = tf.nn.dropout(attention_output_2, rate = rate)\n",
    "        output_2 = tf.keras.layers.LayerNormalization(epsilon=1e-6)(attention_output_2 + output_1) \n",
    "    \n",
    "        ffn_output = point_wise_feed_forward_network(output_2, d_model, d_ff, 'pwffn')\n",
    "        ffn_output = tf.nn.dropout(ffn_output, rate = rate)\n",
    "        output_3 = tf.keras.layers.LayerNormalization(epsilon=1e-6)(output_2 + ffn_output)\n",
    "    \n",
    "    return output_3"
   ]
  },
  {
   "cell_type": "markdown",
   "metadata": {},
   "source": [
    "## Encoder"
   ]
  },
  {
   "cell_type": "code",
   "execution_count": 18,
   "metadata": {},
   "outputs": [],
   "source": [
    "def encoder(x, mask, num_layers, d_model, num_heads, d_ff, input_vocab_size, maximum_position_encoding, rate, scope):\n",
    "\n",
    "    with tf.variable_scope(scope,reuse=tf.AUTO_REUSE):\n",
    "        \n",
    "        T_x = tf.shape(x)[1]\n",
    "        pos_encoding = positional_encoding(maximum_position_encoding, d_model)\n",
    "\n",
    "        x = tf.keras.layers.Embedding(input_vocab_size, d_model)(x) # (batch_size, T_x, d_model)\n",
    "        x *= tf.math.sqrt(tf.cast(d_model, tf.float32))\n",
    "        x += pos_encoding[:, :T_x, :]\n",
    "\n",
    "        x = tf.nn.dropout(x, rate = rate)\n",
    "    \n",
    "        for i in range(num_layers):\n",
    "            x = encoder_layer(x, mask, d_model, d_ff, num_heads, rate, 'Encoder_layer_'+str(i+1))\n",
    "    \n",
    "    return x  # (batch_size, T_x, d_model)"
   ]
  },
  {
   "cell_type": "markdown",
   "metadata": {},
   "source": [
    "## Decoder"
   ]
  },
  {
   "cell_type": "code",
   "execution_count": 19,
   "metadata": {},
   "outputs": [],
   "source": [
    "def decoder(y, encoder_output, future_mask, padding_mask, num_layers, d_model, num_heads, d_ff, \n",
    "                        target_vocab_size, maximum_position_encoding, rate, scope):\n",
    "\n",
    "    with tf.variable_scope(scope,reuse=tf.AUTO_REUSE):   \n",
    "        \n",
    "        T_y = tf.shape(y)[1] \n",
    "        attention_weights = {}    \n",
    "        pos_encoding = positional_encoding(maximum_position_encoding, d_model)    \n",
    "    \n",
    "        y = tf.keras.layers.Embedding(target_vocab_size, d_model)(y)  # (batch_size, T_y, d_model)\n",
    "        y *= tf.math.sqrt(tf.cast(d_model, tf.float32))\n",
    "        y += pos_encoding[:, :T_y, :]\n",
    "    \n",
    "        y = tf.nn.dropout(y, rate = rate)\n",
    "        \n",
    "        for i in range(num_layers):\n",
    "            y = decoder_layer(y, encoder_output, padding_mask, future_mask, d_model, \n",
    "                                              d_ff, num_heads, rate, 'Decoder_layer_'+str(i+1))\n",
    "    \n",
    "    return y # (batch_size, T_y, d_model)"
   ]
  },
  {
   "cell_type": "markdown",
   "metadata": {},
   "source": [
    "## Positional encoding\n",
    "\n",
    "<img src=\"images/positional_encoding.png\" style=\"width:100;height:100px;\"> <br>"
   ]
  },
  {
   "cell_type": "code",
   "execution_count": 20,
   "metadata": {},
   "outputs": [],
   "source": [
    "def positional_encoding(position, d_model):\n",
    "        \n",
    "    pos = np.arange(0,position)\n",
    "    pos = pos.reshape(-1,1)\n",
    "    \n",
    "    div_term = 10000**(np.arange(0, d_model, 2)/d_model)\n",
    "        \n",
    "    pe = np.zeros((position, d_model))\n",
    "    pe[:,0::2] = np.sin(pos/div_term)\n",
    "    pe[:,1::2] = np.cos(pos/div_term)\n",
    "        \n",
    "    positional_enc = tf.convert_to_tensor(pe, dtype=tf.float32) # (position, d_model)\n",
    "    positional_enc = positional_enc[np.newaxis, :,:] # (1, position, d_model)\n",
    "        \n",
    "    return positional_enc"
   ]
  },
  {
   "cell_type": "markdown",
   "metadata": {},
   "source": [
    "## Transformer"
   ]
  },
  {
   "cell_type": "code",
   "execution_count": 21,
   "metadata": {},
   "outputs": [],
   "source": [
    "def transformer(input_, target_, encoder_padding_mask, future_mask, decoder_padding_mask, num_layers, d_model, num_heads, d_ff,\n",
    "                   input_vocab_size, target_vocab_size, pe_input, pe_target, rate):\n",
    "    \n",
    "    \n",
    "    encoder_output = encoder(input_, encoder_padding_mask, num_layers, d_model, num_heads, d_ff, input_vocab_size, \n",
    "                                        pe_input, rate, 'Encoder')\n",
    "\n",
    "    decoder_output = decoder(target_, encoder_output, future_mask, decoder_padding_mask, \n",
    "                                          num_layers, d_model, num_heads, d_ff, target_vocab_size, pe_target, rate, 'Decoder')\n",
    "\n",
    "    final_output = tf.contrib.layers.fully_connected(decoder_output, target_vocab_size, activation_fn = None,\n",
    "                            weights_initializer = tf.keras.initializers.glorot_uniform())\n",
    "    \n",
    "    return final_output"
   ]
  },
  {
   "cell_type": "markdown",
   "metadata": {},
   "source": [
    "## Learning rate\n",
    "\n",
    "\n",
    "<img src=\"images/lrate.png\" style=\"width:50;height:50px;\"> <br>"
   ]
  },
  {
   "cell_type": "code",
   "execution_count": 22,
   "metadata": {},
   "outputs": [],
   "source": [
    "def learning_rate_function(d_model, step_num):\n",
    "    \n",
    "    warmup_steps = 4000\n",
    "\n",
    "    step_num = tf.cast(step_num + 1,tf.float32)\n",
    "    d_model = tf.cast(d_model, tf.float32)\n",
    "    \n",
    "    part1 = tf.math.rsqrt(step_num)\n",
    "    part2 = step_num * (warmup_steps ** (-1.5))\n",
    "    \n",
    "    learning_rate = tf.math.rsqrt(d_model) * tf.math.minimum(part1, part2)\n",
    "    \n",
    "    return learning_rate"
   ]
  },
  {
   "cell_type": "markdown",
   "metadata": {},
   "source": [
    "## Loss"
   ]
  },
  {
   "cell_type": "code",
   "execution_count": 23,
   "metadata": {},
   "outputs": [],
   "source": [
    "def loss_function(target_, prediction_):\n",
    "  \n",
    "    mask = tf.math.logical_not(tf.math.equal(target_, 0))\n",
    "    \n",
    "    loss = tf.keras.losses.SparseCategoricalCrossentropy(from_logits=True, reduction='none')(target_, prediction_)\n",
    "\n",
    "    mask = tf.cast(mask, dtype=loss.dtype)\n",
    "    loss *= mask\n",
    "  \n",
    "    loss = tf.reduce_sum(loss)/tf.reduce_sum(mask)\n",
    "    \n",
    "    return loss"
   ]
  },
  {
   "cell_type": "markdown",
   "metadata": {},
   "source": [
    "## Accuracy"
   ]
  },
  {
   "cell_type": "code",
   "execution_count": 24,
   "metadata": {},
   "outputs": [],
   "source": [
    "def accuracy_function(target_, prediction_):\n",
    "    \n",
    "    accuracy = tf.reduce_mean(tf.cast(tf.equal(target_,tf.cast(tf.argmax(prediction_, axis=-1),dtype=tf.int32)),dtype=tf.float32))\n",
    "    \n",
    "    return accuracy"
   ]
  },
  {
   "cell_type": "markdown",
   "metadata": {},
   "source": [
    "## Optimizer"
   ]
  },
  {
   "cell_type": "code",
   "execution_count": 25,
   "metadata": {},
   "outputs": [],
   "source": [
    "def optimizer_function(loss, d_model):\n",
    "    \n",
    "    global_step = tf.Variable(0, trainable=False) \n",
    "    learning_rate = learning_rate_function(d_model, global_step)\n",
    "    optimizer = tf.train.AdamOptimizer(learning_rate, beta1=0.9, beta2=0.98, epsilon=1e-09).minimize(loss, global_step)\n",
    "     \n",
    "    return optimizer"
   ]
  },
  {
   "cell_type": "markdown",
   "metadata": {},
   "source": [
    "## Masks"
   ]
  },
  {
   "cell_type": "code",
   "execution_count": 26,
   "metadata": {},
   "outputs": [],
   "source": [
    "def padding_mask_function(input_):\n",
    "    \n",
    "    input_ = tf.cast(tf.math.equal(input_, 0), tf.float32) # (batch_size, T)\n",
    "  \n",
    "    # add extra dimension to add the padding to the attention logits\n",
    "    return input_[:, tf.newaxis, :]  # (batch_size, 1, T)"
   ]
  },
  {
   "cell_type": "code",
   "execution_count": 27,
   "metadata": {},
   "outputs": [],
   "source": [
    "def future_mask_function(batch_size_, size):\n",
    "    \n",
    "    diag_vals = tf.ones((size, size))  # (T, T)\n",
    "    tril = 1 - tf.linalg.LinearOperatorLowerTriangular(diag_vals).to_dense() # (T, T)\n",
    "    mask = tf.tile(tril[tf.newaxis, :, :], [batch_size_, 1, 1]) # (batch_size_, T, T)\n",
    "\n",
    "    return mask  "
   ]
  },
  {
   "cell_type": "code",
   "execution_count": 28,
   "metadata": {},
   "outputs": [],
   "source": [
    "def create_masks(input_, target_):\n",
    "    \n",
    "    # used in the input of the encoder to mask the padding tokens\n",
    "    encoder_padding_mask = padding_mask_function(input_)\n",
    "    \n",
    "    # Used in the 1st attention block of the decoder to mask the padding tokens of the decoder input \n",
    "    # and prevent positions from attending to subsequent positions of the decoder input \n",
    "    future_mask = future_mask_function(tf.shape(target_)[0], tf.shape(target_)[1])\n",
    "    decoder_target_padding_mask = padding_mask_function(target_)\n",
    "    future_pad_mask = tf.maximum(decoder_target_padding_mask, future_mask)\n",
    "  \n",
    "    # used in the 2nd attention block of the decoder to mask the padding tokens of the encoder outputs\n",
    "    decoder_padding_mask = padding_mask_function(input_)\n",
    "  \n",
    "    return encoder_padding_mask, future_pad_mask, decoder_padding_mask"
   ]
  },
  {
   "cell_type": "markdown",
   "metadata": {},
   "source": [
    "## Transformer"
   ]
  },
  {
   "cell_type": "code",
   "execution_count": 29,
   "metadata": {},
   "outputs": [],
   "source": [
    "class transformer_model:\n",
    "    \n",
    "    def __init__(self, num_layers, d_model, num_heads, d_ff, input_vocab_size, target_vocab_size, pe_input, \n",
    "                       pe_target, rate):\n",
    "        \n",
    "        tf.reset_default_graph()\n",
    "        \n",
    "        # Build the input placeholder tensors\n",
    "        self.inputs_, self.targets_inputs_, self.targets_real_ = build_inputs()\n",
    "        \n",
    "        encoder_padding_mask, future_pad_mask, decoder_padding_mask = create_masks(self.inputs_, self.targets_inputs_)\n",
    "        \n",
    "        self.predictions = transformer(self.inputs_, self.targets_inputs_, encoder_padding_mask, future_pad_mask, \n",
    "                                     decoder_padding_mask,  num_layers, d_model, num_heads, d_ff, input_vocab_size, \n",
    "                                     target_vocab_size, pe_input, pe_target, rate)\n",
    "        \n",
    "        # Loss\n",
    "        self.loss = loss_function(self.targets_real_, self.predictions)\n",
    "        \n",
    "        # Accuracy\n",
    "        self.accuracy = accuracy_function(self.targets_real_, self.predictions)\n",
    "        \n",
    "        # Optimizer\n",
    "        self.optimizer = optimizer_function(self.loss, d_model)"
   ]
  },
  {
   "cell_type": "markdown",
   "metadata": {},
   "source": [
    "## Hyperparameters"
   ]
  },
  {
   "cell_type": "code",
   "execution_count": 30,
   "metadata": {},
   "outputs": [],
   "source": [
    "num_layers = 4\n",
    "d_model = 128\n",
    "d_ff = 512\n",
    "num_heads = 8\n",
    "\n",
    "input_vocab_size = tokenizer_pt.vocab_size + 2\n",
    "target_vocab_size = tokenizer_en.vocab_size + 2\n",
    "dropout_rate = 0.1\n",
    "\n",
    "num_epochs = 20"
   ]
  },
  {
   "cell_type": "markdown",
   "metadata": {},
   "source": [
    "## Training"
   ]
  },
  {
   "cell_type": "code",
   "execution_count": 32,
   "metadata": {},
   "outputs": [
    {
     "name": "stdout",
     "output_type": "stream",
     "text": [
      "Epoch: 1/20 Mean loss  : 7.1167 Mean accuracy  : 0.0508\n",
      "Epoch: 2/20 Mean loss  : 5.0024 Mean accuracy  : 0.1258\n",
      "Epoch: 3/20 Mean loss  : 4.4511 Mean accuracy  : 0.1512\n",
      "Epoch: 4/20 Mean loss  : 4.0000 Mean accuracy  : 0.1752\n",
      "Epoch: 5/20 Mean loss  : 3.5342 Mean accuracy  : 0.2021\n",
      "Epoch: 6/20 Mean loss  : 3.1338 Mean accuracy  : 0.2232\n",
      "Epoch: 7/20 Mean loss  : 2.7316 Mean accuracy  : 0.2454\n",
      "Epoch: 8/20 Mean loss  : 2.4082 Mean accuracy  : 0.2640\n",
      "Epoch: 9/20 Mean loss  : 2.1739 Mean accuracy  : 0.2779\n",
      "Epoch: 10/20 Mean loss  : 1.9993 Mean accuracy  : 0.2883\n",
      "Epoch: 11/20 Mean loss  : 1.8562 Mean accuracy  : 0.2975\n",
      "Epoch: 12/20 Mean loss  : 1.7389 Mean accuracy  : 0.3052\n",
      "Epoch: 13/20 Mean loss  : 1.6423 Mean accuracy  : 0.3111\n",
      "Epoch: 14/20 Mean loss  : 1.5561 Mean accuracy  : 0.3170\n",
      "Epoch: 15/20 Mean loss  : 1.4852 Mean accuracy  : 0.3218\n",
      "Epoch: 16/20 Mean loss  : 1.4178 Mean accuracy  : 0.3263\n",
      "Epoch: 17/20 Mean loss  : 1.3592 Mean accuracy  : 0.3307\n",
      "Epoch: 18/20 Mean loss  : 1.3034 Mean accuracy  : 0.3349\n",
      "Epoch: 19/20 Mean loss  : 1.2543 Mean accuracy  : 0.3382\n",
      "Epoch: 20/20 Mean loss  : 1.2102 Mean accuracy  : 0.3415\n",
      "Time taken for ALL epochs: 1347.9070222377777 secs\n",
      "\n"
     ]
    }
   ],
   "source": [
    "tf.disable_eager_execution()\n",
    "tf.reset_default_graph()\n",
    "\n",
    "model = transformer_model(num_layers = num_layers, d_model = d_model, num_heads = num_heads, d_ff = d_ff, \n",
    "                          input_vocab_size = input_vocab_size, target_vocab_size = target_vocab_size, \n",
    "                          pe_input = input_vocab_size, pe_target = target_vocab_size, rate = dropout_rate)\n",
    "\n",
    "saver = tf.train.Saver(max_to_keep=num_epochs) \n",
    "checkpoint_folder = 'checkpoints_transformer'\n",
    "\n",
    "start_total = time.time()\n",
    "\n",
    "with tf.Session(config=config) as sess:\n",
    "    sess.run(tf.global_variables_initializer())\n",
    "    sess.run(tf.local_variables_initializer())\n",
    "    \n",
    "    train_loss_per_step = []\n",
    "    train_loss_per_epoch = []\n",
    "    train_accuracy_per_epoch = []\n",
    "    \n",
    "    for epoch in range(num_epochs):\n",
    "        start = time.time()\n",
    "        \n",
    "        train_loss_per_batch = []\n",
    "        train_accuracy_per_batch = []\n",
    "        \n",
    "        for batch in range(len(X_train)):\n",
    "            \n",
    "            inputs_ = X_train[batch]\n",
    "            targets_inputs_ = Y_train[batch][:, :-1]\n",
    "            targets_real_ = Y_train[batch][:, 1:]\n",
    "\n",
    "            feed = {model.inputs_: inputs_,\n",
    "                   model.targets_inputs_: targets_inputs_,\n",
    "                   model.targets_real_: targets_real_}\n",
    "\n",
    "    \n",
    "            batch_predictions, batch_loss, batch_accuracy, _ = sess.run([model.predictions,\n",
    "                                                 model.loss,\n",
    "                                                 model.accuracy,\n",
    "                                                 model.optimizer],\n",
    "                                                 feed_dict=feed)\n",
    "        \n",
    "            \n",
    "            train_loss_per_batch.append(batch_loss)\n",
    "            train_loss_per_step.append(batch_loss)\n",
    "            train_accuracy_per_batch.append(batch_accuracy)\n",
    "            \n",
    "        train_loss_per_epoch.append(np.mean(train_loss_per_batch))\n",
    "        train_accuracy_per_epoch.append(np.mean(train_accuracy_per_batch))\n",
    "        \n",
    "        print(\"Epoch: {}/{}\".format(epoch+1, num_epochs),\n",
    "              \"Mean loss  : {:.4f}\".format(np.mean(train_loss_per_batch)),\n",
    "              \"Mean accuracy  : {:.4f}\".format(np.mean(train_accuracy_per_batch)))\n",
    "        \n",
    "    saver.save(sess, checkpoint_folder+'/transformer.ckpt')\n",
    "    print ('Time taken for ALL epochs: {} secs\\n'.format(time.time() - start_total))"
   ]
  },
  {
   "cell_type": "markdown",
   "metadata": {},
   "source": [
    "## Figures of loss and accuracy"
   ]
  },
  {
   "cell_type": "code",
   "execution_count": 33,
   "metadata": {},
   "outputs": [
    {
     "data": {
      "image/png": "[encoded data removed]",
      "text/plain": [
       "<Figure size 432x288 with 1 Axes>"
      ]
     },
     "metadata": {
      "needs_background": "light"
     },
     "output_type": "display_data"
    },
    {
     "data": {
      "image/png": "[encoded data removed]",
      "text/plain": [
       "<Figure size 432x288 with 1 Axes>"
      ]
     },
     "metadata": {
      "needs_background": "light"
     },
     "output_type": "display_data"
    }
   ],
   "source": [
    "fig = plt.figure()\n",
    "plt.plot(np.arange(1,num_epochs+1), train_loss_per_epoch)\n",
    "plt.ylabel('mean loss per epoch')\n",
    "plt.xlabel('epoch')\n",
    "fig.savefig('./'+ checkpoint_folder +'/mean loss per epoch.png')\n",
    "\n",
    "fig = plt.figure()\n",
    "plt.plot(np.arange(1,num_epochs+1), train_accuracy_per_epoch)\n",
    "plt.ylabel('mean accuracy per epoch')\n",
    "plt.xlabel('epoch')\n",
    "fig.savefig('./'+ checkpoint_folder +'/mean accuracy per epoch.png')"
   ]
  },
  {
   "cell_type": "markdown",
   "metadata": {},
   "source": [
    "## Evaluate "
   ]
  },
  {
   "cell_type": "markdown",
   "metadata": {},
   "source": [
    "### The funtions 'evaluate' and 'translate' and the testing examples were taken from https://www.tensorflow.org/tutorials/text/transformer which uses TensorFlow 2.0 and were modified accordingly for TensorFlow 1.15"
   ]
  },
  {
   "cell_type": "code",
   "execution_count": 34,
   "metadata": {},
   "outputs": [],
   "source": [
    "def evaluate(inp_sentence):\n",
    "\n",
    "    dropout_rate = 0\n",
    "    start_token = [tokenizer_pt.vocab_size]\n",
    "    end_token = [tokenizer_pt.vocab_size + 1]\n",
    "    \n",
    "    inp_sentence = start_token + tokenizer_pt.encode(inp_sentence) + end_token\n",
    "    encoder_input = np.expand_dims(inp_sentence, 0)\n",
    "    \n",
    "    decoder_input = [tokenizer_en.vocab_size]\n",
    "    output = np.expand_dims(decoder_input, 0)\n",
    "\n",
    "    model = transformer_model(num_layers = num_layers, d_model = d_model, num_heads = num_heads, d_ff = d_ff, \n",
    "                          input_vocab_size = input_vocab_size, target_vocab_size = target_vocab_size, \n",
    "                          pe_input = input_vocab_size, pe_target = target_vocab_size, rate = dropout_rate)\n",
    "\n",
    "    with tf.Session() as sess:\n",
    "        \n",
    "        saver = tf.train.Saver()\n",
    "        saver.restore(sess, tf.train.latest_checkpoint(checkpoint_folder))\n",
    "\n",
    "        for i in range(MAX_LENGTH):\n",
    "            \n",
    "            feed = {model.inputs_: encoder_input,\n",
    "                   model.targets_inputs_: output,\n",
    "                   model.targets_real_: output}\n",
    "            \n",
    "            batch_predictions = sess.run(model.predictions, feed_dict=feed)\n",
    "                    \n",
    "            # select the last word from the Ty dimension\n",
    "            predictions = batch_predictions[: ,-1:, :]  # (batch_size, 1, vocab_size)\n",
    "            \n",
    "            predicted_id = np.argmax(predictions, axis=-1)\n",
    "            predicted_id = predicted_id.astype(int)\n",
    "            \n",
    "            # return the result if the predicted_id is equal to the end token\n",
    "            if predicted_id == tokenizer_en.vocab_size+1:\n",
    "                return np.squeeze(output, axis=0)\n",
    "        \n",
    "            # concatentate the predicted_id to the output which is given to the decoder # as its input.\n",
    "            output = np.concatenate((output, predicted_id), axis=-1)\n",
    "    \n",
    "        return np.squeeze(output, axis=0)"
   ]
  },
  {
   "cell_type": "code",
   "execution_count": 35,
   "metadata": {},
   "outputs": [],
   "source": [
    "def translate(sentence):\n",
    "    \n",
    "    result = evaluate(sentence)\n",
    "  \n",
    "    predicted_sentence = tokenizer_en.decode([i for i in result \n",
    "                                            if i < tokenizer_en.vocab_size])  \n",
    "\n",
    "    print('Input: {}'.format(sentence))\n",
    "    print('Predicted translation: {}'.format(predicted_sentence))"
   ]
  },
  {
   "cell_type": "markdown",
   "metadata": {},
   "source": [
    "### Example 1"
   ]
  },
  {
   "cell_type": "code",
   "execution_count": 36,
   "metadata": {},
   "outputs": [
    {
     "name": "stdout",
     "output_type": "stream",
     "text": [
      "INFO:tensorflow:Restoring parameters from checkpoints_transformer/transformer.ckpt\n"
     ]
    },
    {
     "name": "stderr",
     "output_type": "stream",
     "text": [
      "INFO:tensorflow:Restoring parameters from checkpoints_transformer/transformer.ckpt\n"
     ]
    },
    {
     "name": "stdout",
     "output_type": "stream",
     "text": [
      "Input: este é um problema que temos que resolver.\n",
      "Predicted translation: this is a problem that we have to solve .\n",
      "Real translation: this is a problem we have to solve .\n"
     ]
    }
   ],
   "source": [
    "translate(\"este é um problema que temos que resolver.\")\n",
    "print (\"Real translation: this is a problem we have to solve .\")"
   ]
  },
  {
   "cell_type": "markdown",
   "metadata": {},
   "source": [
    "### Example 2"
   ]
  },
  {
   "cell_type": "code",
   "execution_count": 37,
   "metadata": {},
   "outputs": [
    {
     "name": "stdout",
     "output_type": "stream",
     "text": [
      "INFO:tensorflow:Restoring parameters from checkpoints_transformer/transformer.ckpt\n"
     ]
    },
    {
     "name": "stderr",
     "output_type": "stream",
     "text": [
      "INFO:tensorflow:Restoring parameters from checkpoints_transformer/transformer.ckpt\n"
     ]
    },
    {
     "name": "stdout",
     "output_type": "stream",
     "text": [
      "Input: os meus vizinhos ouviram sobre esta ideia.\n",
      "Predicted translation: my neighbors heard about this idea .\n",
      "Real translation: and my neighboring homes heard about this idea .\n"
     ]
    }
   ],
   "source": [
    "translate(\"os meus vizinhos ouviram sobre esta ideia.\")\n",
    "print (\"Real translation: and my neighboring homes heard about this idea .\")"
   ]
  },
  {
   "cell_type": "markdown",
   "metadata": {},
   "source": [
    "### Example 3"
   ]
  },
  {
   "cell_type": "code",
   "execution_count": 38,
   "metadata": {},
   "outputs": [
    {
     "name": "stdout",
     "output_type": "stream",
     "text": [
      "INFO:tensorflow:Restoring parameters from checkpoints_transformer/transformer.ckpt\n"
     ]
    },
    {
     "name": "stderr",
     "output_type": "stream",
     "text": [
      "INFO:tensorflow:Restoring parameters from checkpoints_transformer/transformer.ckpt\n"
     ]
    },
    {
     "name": "stdout",
     "output_type": "stream",
     "text": [
      "Input: vou então muito rapidamente partilhar convosco algumas histórias de algumas coisas mágicas que aconteceram.\n",
      "Predicted translation: so i 'm going to share very quickly share with you some magic stories that happened there .\n",
      "Real translation: so i 'll just share with you some stories very quickly of some magical things that have happened .\n"
     ]
    }
   ],
   "source": [
    "translate(\"vou então muito rapidamente partilhar convosco algumas histórias de algumas coisas mágicas que aconteceram.\")\n",
    "print (\"Real translation: so i 'll just share with you some stories very quickly of some magical things that have happened .\")"
   ]
  },
  {
   "cell_type": "markdown",
   "metadata": {},
   "source": [
    "## Number of trainable parameters"
   ]
  },
  {
   "cell_type": "code",
   "execution_count": 39,
   "metadata": {
    "scrolled": false
   },
   "outputs": [
    {
     "name": "stdout",
     "output_type": "stream",
     "text": [
      "<tf.Variable 'Encoder/embedding/embeddings:0' shape=(8216, 128) dtype=float32>\n",
      "<tf.Variable 'Encoder/Encoder_layer_1/mha/fully_connected/weights:0' shape=(128, 128) dtype=float32_ref>\n",
      "<tf.Variable 'Encoder/Encoder_layer_1/mha/fully_connected/biases:0' shape=(128,) dtype=float32_ref>\n",
      "<tf.Variable 'Encoder/Encoder_layer_1/mha/fully_connected_1/weights:0' shape=(128, 128) dtype=float32_ref>\n",
      "<tf.Variable 'Encoder/Encoder_layer_1/mha/fully_connected_1/biases:0' shape=(128,) dtype=float32_ref>\n",
      "<tf.Variable 'Encoder/Encoder_layer_1/mha/fully_connected_2/weights:0' shape=(128, 128) dtype=float32_ref>\n",
      "<tf.Variable 'Encoder/Encoder_layer_1/mha/fully_connected_2/biases:0' shape=(128,) dtype=float32_ref>\n",
      "<tf.Variable 'Encoder/Encoder_layer_1/mha/fully_connected_3/weights:0' shape=(128, 128) dtype=float32_ref>\n",
      "<tf.Variable 'Encoder/Encoder_layer_1/mha/fully_connected_3/biases:0' shape=(128,) dtype=float32_ref>\n",
      "<tf.Variable 'Encoder/Encoder_layer_1/layer_normalization/gamma:0' shape=(128,) dtype=float32>\n",
      "<tf.Variable 'Encoder/Encoder_layer_1/layer_normalization/beta:0' shape=(128,) dtype=float32>\n",
      "<tf.Variable 'Encoder/Encoder_layer_1/pwffn/fully_connected/weights:0' shape=(128, 512) dtype=float32_ref>\n",
      "<tf.Variable 'Encoder/Encoder_layer_1/pwffn/fully_connected/biases:0' shape=(512,) dtype=float32_ref>\n",
      "<tf.Variable 'Encoder/Encoder_layer_1/pwffn/fully_connected_1/weights:0' shape=(512, 128) dtype=float32_ref>\n",
      "<tf.Variable 'Encoder/Encoder_layer_1/pwffn/fully_connected_1/biases:0' shape=(128,) dtype=float32_ref>\n",
      "<tf.Variable 'Encoder/Encoder_layer_1/layer_normalization_1/gamma:0' shape=(128,) dtype=float32>\n",
      "<tf.Variable 'Encoder/Encoder_layer_1/layer_normalization_1/beta:0' shape=(128,) dtype=float32>\n",
      "<tf.Variable 'Encoder/Encoder_layer_2/mha/fully_connected/weights:0' shape=(128, 128) dtype=float32_ref>\n",
      "<tf.Variable 'Encoder/Encoder_layer_2/mha/fully_connected/biases:0' shape=(128,) dtype=float32_ref>\n",
      "<tf.Variable 'Encoder/Encoder_layer_2/mha/fully_connected_1/weights:0' shape=(128, 128) dtype=float32_ref>\n",
      "<tf.Variable 'Encoder/Encoder_layer_2/mha/fully_connected_1/biases:0' shape=(128,) dtype=float32_ref>\n",
      "<tf.Variable 'Encoder/Encoder_layer_2/mha/fully_connected_2/weights:0' shape=(128, 128) dtype=float32_ref>\n",
      "<tf.Variable 'Encoder/Encoder_layer_2/mha/fully_connected_2/biases:0' shape=(128,) dtype=float32_ref>\n",
      "<tf.Variable 'Encoder/Encoder_layer_2/mha/fully_connected_3/weights:0' shape=(128, 128) dtype=float32_ref>\n",
      "<tf.Variable 'Encoder/Encoder_layer_2/mha/fully_connected_3/biases:0' shape=(128,) dtype=float32_ref>\n",
      "<tf.Variable 'Encoder/Encoder_layer_2/layer_normalization_2/gamma:0' shape=(128,) dtype=float32>\n",
      "<tf.Variable 'Encoder/Encoder_layer_2/layer_normalization_2/beta:0' shape=(128,) dtype=float32>\n",
      "<tf.Variable 'Encoder/Encoder_layer_2/pwffn/fully_connected/weights:0' shape=(128, 512) dtype=float32_ref>\n",
      "<tf.Variable 'Encoder/Encoder_layer_2/pwffn/fully_connected/biases:0' shape=(512,) dtype=float32_ref>\n",
      "<tf.Variable 'Encoder/Encoder_layer_2/pwffn/fully_connected_1/weights:0' shape=(512, 128) dtype=float32_ref>\n",
      "<tf.Variable 'Encoder/Encoder_layer_2/pwffn/fully_connected_1/biases:0' shape=(128,) dtype=float32_ref>\n",
      "<tf.Variable 'Encoder/Encoder_layer_2/layer_normalization_3/gamma:0' shape=(128,) dtype=float32>\n",
      "<tf.Variable 'Encoder/Encoder_layer_2/layer_normalization_3/beta:0' shape=(128,) dtype=float32>\n",
      "<tf.Variable 'Encoder/Encoder_layer_3/mha/fully_connected/weights:0' shape=(128, 128) dtype=float32_ref>\n",
      "<tf.Variable 'Encoder/Encoder_layer_3/mha/fully_connected/biases:0' shape=(128,) dtype=float32_ref>\n",
      "<tf.Variable 'Encoder/Encoder_layer_3/mha/fully_connected_1/weights:0' shape=(128, 128) dtype=float32_ref>\n",
      "<tf.Variable 'Encoder/Encoder_layer_3/mha/fully_connected_1/biases:0' shape=(128,) dtype=float32_ref>\n",
      "<tf.Variable 'Encoder/Encoder_layer_3/mha/fully_connected_2/weights:0' shape=(128, 128) dtype=float32_ref>\n",
      "<tf.Variable 'Encoder/Encoder_layer_3/mha/fully_connected_2/biases:0' shape=(128,) dtype=float32_ref>\n",
      "<tf.Variable 'Encoder/Encoder_layer_3/mha/fully_connected_3/weights:0' shape=(128, 128) dtype=float32_ref>\n",
      "<tf.Variable 'Encoder/Encoder_layer_3/mha/fully_connected_3/biases:0' shape=(128,) dtype=float32_ref>\n",
      "<tf.Variable 'Encoder/Encoder_layer_3/layer_normalization_4/gamma:0' shape=(128,) dtype=float32>\n",
      "<tf.Variable 'Encoder/Encoder_layer_3/layer_normalization_4/beta:0' shape=(128,) dtype=float32>\n",
      "<tf.Variable 'Encoder/Encoder_layer_3/pwffn/fully_connected/weights:0' shape=(128, 512) dtype=float32_ref>\n",
      "<tf.Variable 'Encoder/Encoder_layer_3/pwffn/fully_connected/biases:0' shape=(512,) dtype=float32_ref>\n",
      "<tf.Variable 'Encoder/Encoder_layer_3/pwffn/fully_connected_1/weights:0' shape=(512, 128) dtype=float32_ref>\n",
      "<tf.Variable 'Encoder/Encoder_layer_3/pwffn/fully_connected_1/biases:0' shape=(128,) dtype=float32_ref>\n",
      "<tf.Variable 'Encoder/Encoder_layer_3/layer_normalization_5/gamma:0' shape=(128,) dtype=float32>\n",
      "<tf.Variable 'Encoder/Encoder_layer_3/layer_normalization_5/beta:0' shape=(128,) dtype=float32>\n",
      "<tf.Variable 'Encoder/Encoder_layer_4/mha/fully_connected/weights:0' shape=(128, 128) dtype=float32_ref>\n",
      "<tf.Variable 'Encoder/Encoder_layer_4/mha/fully_connected/biases:0' shape=(128,) dtype=float32_ref>\n",
      "<tf.Variable 'Encoder/Encoder_layer_4/mha/fully_connected_1/weights:0' shape=(128, 128) dtype=float32_ref>\n",
      "<tf.Variable 'Encoder/Encoder_layer_4/mha/fully_connected_1/biases:0' shape=(128,) dtype=float32_ref>\n",
      "<tf.Variable 'Encoder/Encoder_layer_4/mha/fully_connected_2/weights:0' shape=(128, 128) dtype=float32_ref>\n",
      "<tf.Variable 'Encoder/Encoder_layer_4/mha/fully_connected_2/biases:0' shape=(128,) dtype=float32_ref>\n",
      "<tf.Variable 'Encoder/Encoder_layer_4/mha/fully_connected_3/weights:0' shape=(128, 128) dtype=float32_ref>\n",
      "<tf.Variable 'Encoder/Encoder_layer_4/mha/fully_connected_3/biases:0' shape=(128,) dtype=float32_ref>\n",
      "<tf.Variable 'Encoder/Encoder_layer_4/layer_normalization_6/gamma:0' shape=(128,) dtype=float32>\n",
      "<tf.Variable 'Encoder/Encoder_layer_4/layer_normalization_6/beta:0' shape=(128,) dtype=float32>\n",
      "<tf.Variable 'Encoder/Encoder_layer_4/pwffn/fully_connected/weights:0' shape=(128, 512) dtype=float32_ref>\n",
      "<tf.Variable 'Encoder/Encoder_layer_4/pwffn/fully_connected/biases:0' shape=(512,) dtype=float32_ref>\n",
      "<tf.Variable 'Encoder/Encoder_layer_4/pwffn/fully_connected_1/weights:0' shape=(512, 128) dtype=float32_ref>\n",
      "<tf.Variable 'Encoder/Encoder_layer_4/pwffn/fully_connected_1/biases:0' shape=(128,) dtype=float32_ref>\n",
      "<tf.Variable 'Encoder/Encoder_layer_4/layer_normalization_7/gamma:0' shape=(128,) dtype=float32>\n",
      "<tf.Variable 'Encoder/Encoder_layer_4/layer_normalization_7/beta:0' shape=(128,) dtype=float32>\n",
      "<tf.Variable 'Decoder/embedding_1/embeddings:0' shape=(8089, 128) dtype=float32>\n",
      "<tf.Variable 'Decoder/Decoder_layer_1/mha_1/fully_connected/weights:0' shape=(128, 128) dtype=float32_ref>\n",
      "<tf.Variable 'Decoder/Decoder_layer_1/mha_1/fully_connected/biases:0' shape=(128,) dtype=float32_ref>\n",
      "<tf.Variable 'Decoder/Decoder_layer_1/mha_1/fully_connected_1/weights:0' shape=(128, 128) dtype=float32_ref>\n",
      "<tf.Variable 'Decoder/Decoder_layer_1/mha_1/fully_connected_1/biases:0' shape=(128,) dtype=float32_ref>\n",
      "<tf.Variable 'Decoder/Decoder_layer_1/mha_1/fully_connected_2/weights:0' shape=(128, 128) dtype=float32_ref>\n",
      "<tf.Variable 'Decoder/Decoder_layer_1/mha_1/fully_connected_2/biases:0' shape=(128,) dtype=float32_ref>\n",
      "<tf.Variable 'Decoder/Decoder_layer_1/mha_1/fully_connected_3/weights:0' shape=(128, 128) dtype=float32_ref>\n",
      "<tf.Variable 'Decoder/Decoder_layer_1/mha_1/fully_connected_3/biases:0' shape=(128,) dtype=float32_ref>\n",
      "<tf.Variable 'Decoder/Decoder_layer_1/layer_normalization_8/gamma:0' shape=(128,) dtype=float32>\n",
      "<tf.Variable 'Decoder/Decoder_layer_1/layer_normalization_8/beta:0' shape=(128,) dtype=float32>\n",
      "<tf.Variable 'Decoder/Decoder_layer_1/mha_2/fully_connected/weights:0' shape=(128, 128) dtype=float32_ref>\n",
      "<tf.Variable 'Decoder/Decoder_layer_1/mha_2/fully_connected/biases:0' shape=(128,) dtype=float32_ref>\n",
      "<tf.Variable 'Decoder/Decoder_layer_1/mha_2/fully_connected_1/weights:0' shape=(128, 128) dtype=float32_ref>\n",
      "<tf.Variable 'Decoder/Decoder_layer_1/mha_2/fully_connected_1/biases:0' shape=(128,) dtype=float32_ref>\n",
      "<tf.Variable 'Decoder/Decoder_layer_1/mha_2/fully_connected_2/weights:0' shape=(128, 128) dtype=float32_ref>\n",
      "<tf.Variable 'Decoder/Decoder_layer_1/mha_2/fully_connected_2/biases:0' shape=(128,) dtype=float32_ref>\n",
      "<tf.Variable 'Decoder/Decoder_layer_1/mha_2/fully_connected_3/weights:0' shape=(128, 128) dtype=float32_ref>\n",
      "<tf.Variable 'Decoder/Decoder_layer_1/mha_2/fully_connected_3/biases:0' shape=(128,) dtype=float32_ref>\n",
      "<tf.Variable 'Decoder/Decoder_layer_1/layer_normalization_9/gamma:0' shape=(128,) dtype=float32>\n",
      "<tf.Variable 'Decoder/Decoder_layer_1/layer_normalization_9/beta:0' shape=(128,) dtype=float32>\n",
      "<tf.Variable 'Decoder/Decoder_layer_1/pwffn/fully_connected/weights:0' shape=(128, 512) dtype=float32_ref>\n",
      "<tf.Variable 'Decoder/Decoder_layer_1/pwffn/fully_connected/biases:0' shape=(512,) dtype=float32_ref>\n",
      "<tf.Variable 'Decoder/Decoder_layer_1/pwffn/fully_connected_1/weights:0' shape=(512, 128) dtype=float32_ref>\n",
      "<tf.Variable 'Decoder/Decoder_layer_1/pwffn/fully_connected_1/biases:0' shape=(128,) dtype=float32_ref>\n",
      "<tf.Variable 'Decoder/Decoder_layer_1/layer_normalization_10/gamma:0' shape=(128,) dtype=float32>\n",
      "<tf.Variable 'Decoder/Decoder_layer_1/layer_normalization_10/beta:0' shape=(128,) dtype=float32>\n",
      "<tf.Variable 'Decoder/Decoder_layer_2/mha_1/fully_connected/weights:0' shape=(128, 128) dtype=float32_ref>\n",
      "<tf.Variable 'Decoder/Decoder_layer_2/mha_1/fully_connected/biases:0' shape=(128,) dtype=float32_ref>\n",
      "<tf.Variable 'Decoder/Decoder_layer_2/mha_1/fully_connected_1/weights:0' shape=(128, 128) dtype=float32_ref>\n",
      "<tf.Variable 'Decoder/Decoder_layer_2/mha_1/fully_connected_1/biases:0' shape=(128,) dtype=float32_ref>\n",
      "<tf.Variable 'Decoder/Decoder_layer_2/mha_1/fully_connected_2/weights:0' shape=(128, 128) dtype=float32_ref>\n",
      "<tf.Variable 'Decoder/Decoder_layer_2/mha_1/fully_connected_2/biases:0' shape=(128,) dtype=float32_ref>\n",
      "<tf.Variable 'Decoder/Decoder_layer_2/mha_1/fully_connected_3/weights:0' shape=(128, 128) dtype=float32_ref>\n",
      "<tf.Variable 'Decoder/Decoder_layer_2/mha_1/fully_connected_3/biases:0' shape=(128,) dtype=float32_ref>\n",
      "<tf.Variable 'Decoder/Decoder_layer_2/layer_normalization_11/gamma:0' shape=(128,) dtype=float32>\n",
      "<tf.Variable 'Decoder/Decoder_layer_2/layer_normalization_11/beta:0' shape=(128,) dtype=float32>\n",
      "<tf.Variable 'Decoder/Decoder_layer_2/mha_2/fully_connected/weights:0' shape=(128, 128) dtype=float32_ref>\n",
      "<tf.Variable 'Decoder/Decoder_layer_2/mha_2/fully_connected/biases:0' shape=(128,) dtype=float32_ref>\n",
      "<tf.Variable 'Decoder/Decoder_layer_2/mha_2/fully_connected_1/weights:0' shape=(128, 128) dtype=float32_ref>\n",
      "<tf.Variable 'Decoder/Decoder_layer_2/mha_2/fully_connected_1/biases:0' shape=(128,) dtype=float32_ref>\n",
      "<tf.Variable 'Decoder/Decoder_layer_2/mha_2/fully_connected_2/weights:0' shape=(128, 128) dtype=float32_ref>\n",
      "<tf.Variable 'Decoder/Decoder_layer_2/mha_2/fully_connected_2/biases:0' shape=(128,) dtype=float32_ref>\n",
      "<tf.Variable 'Decoder/Decoder_layer_2/mha_2/fully_connected_3/weights:0' shape=(128, 128) dtype=float32_ref>\n",
      "<tf.Variable 'Decoder/Decoder_layer_2/mha_2/fully_connected_3/biases:0' shape=(128,) dtype=float32_ref>\n",
      "<tf.Variable 'Decoder/Decoder_layer_2/layer_normalization_12/gamma:0' shape=(128,) dtype=float32>\n",
      "<tf.Variable 'Decoder/Decoder_layer_2/layer_normalization_12/beta:0' shape=(128,) dtype=float32>\n",
      "<tf.Variable 'Decoder/Decoder_layer_2/pwffn/fully_connected/weights:0' shape=(128, 512) dtype=float32_ref>\n",
      "<tf.Variable 'Decoder/Decoder_layer_2/pwffn/fully_connected/biases:0' shape=(512,) dtype=float32_ref>\n",
      "<tf.Variable 'Decoder/Decoder_layer_2/pwffn/fully_connected_1/weights:0' shape=(512, 128) dtype=float32_ref>\n",
      "<tf.Variable 'Decoder/Decoder_layer_2/pwffn/fully_connected_1/biases:0' shape=(128,) dtype=float32_ref>\n",
      "<tf.Variable 'Decoder/Decoder_layer_2/layer_normalization_13/gamma:0' shape=(128,) dtype=float32>\n",
      "<tf.Variable 'Decoder/Decoder_layer_2/layer_normalization_13/beta:0' shape=(128,) dtype=float32>\n",
      "<tf.Variable 'Decoder/Decoder_layer_3/mha_1/fully_connected/weights:0' shape=(128, 128) dtype=float32_ref>\n",
      "<tf.Variable 'Decoder/Decoder_layer_3/mha_1/fully_connected/biases:0' shape=(128,) dtype=float32_ref>\n",
      "<tf.Variable 'Decoder/Decoder_layer_3/mha_1/fully_connected_1/weights:0' shape=(128, 128) dtype=float32_ref>\n",
      "<tf.Variable 'Decoder/Decoder_layer_3/mha_1/fully_connected_1/biases:0' shape=(128,) dtype=float32_ref>\n",
      "<tf.Variable 'Decoder/Decoder_layer_3/mha_1/fully_connected_2/weights:0' shape=(128, 128) dtype=float32_ref>\n",
      "<tf.Variable 'Decoder/Decoder_layer_3/mha_1/fully_connected_2/biases:0' shape=(128,) dtype=float32_ref>\n",
      "<tf.Variable 'Decoder/Decoder_layer_3/mha_1/fully_connected_3/weights:0' shape=(128, 128) dtype=float32_ref>\n",
      "<tf.Variable 'Decoder/Decoder_layer_3/mha_1/fully_connected_3/biases:0' shape=(128,) dtype=float32_ref>\n",
      "<tf.Variable 'Decoder/Decoder_layer_3/layer_normalization_14/gamma:0' shape=(128,) dtype=float32>\n",
      "<tf.Variable 'Decoder/Decoder_layer_3/layer_normalization_14/beta:0' shape=(128,) dtype=float32>\n",
      "<tf.Variable 'Decoder/Decoder_layer_3/mha_2/fully_connected/weights:0' shape=(128, 128) dtype=float32_ref>\n",
      "<tf.Variable 'Decoder/Decoder_layer_3/mha_2/fully_connected/biases:0' shape=(128,) dtype=float32_ref>\n",
      "<tf.Variable 'Decoder/Decoder_layer_3/mha_2/fully_connected_1/weights:0' shape=(128, 128) dtype=float32_ref>\n",
      "<tf.Variable 'Decoder/Decoder_layer_3/mha_2/fully_connected_1/biases:0' shape=(128,) dtype=float32_ref>\n",
      "<tf.Variable 'Decoder/Decoder_layer_3/mha_2/fully_connected_2/weights:0' shape=(128, 128) dtype=float32_ref>\n",
      "<tf.Variable 'Decoder/Decoder_layer_3/mha_2/fully_connected_2/biases:0' shape=(128,) dtype=float32_ref>\n",
      "<tf.Variable 'Decoder/Decoder_layer_3/mha_2/fully_connected_3/weights:0' shape=(128, 128) dtype=float32_ref>\n",
      "<tf.Variable 'Decoder/Decoder_layer_3/mha_2/fully_connected_3/biases:0' shape=(128,) dtype=float32_ref>\n",
      "<tf.Variable 'Decoder/Decoder_layer_3/layer_normalization_15/gamma:0' shape=(128,) dtype=float32>\n",
      "<tf.Variable 'Decoder/Decoder_layer_3/layer_normalization_15/beta:0' shape=(128,) dtype=float32>\n",
      "<tf.Variable 'Decoder/Decoder_layer_3/pwffn/fully_connected/weights:0' shape=(128, 512) dtype=float32_ref>\n",
      "<tf.Variable 'Decoder/Decoder_layer_3/pwffn/fully_connected/biases:0' shape=(512,) dtype=float32_ref>\n",
      "<tf.Variable 'Decoder/Decoder_layer_3/pwffn/fully_connected_1/weights:0' shape=(512, 128) dtype=float32_ref>\n",
      "<tf.Variable 'Decoder/Decoder_layer_3/pwffn/fully_connected_1/biases:0' shape=(128,) dtype=float32_ref>\n",
      "<tf.Variable 'Decoder/Decoder_layer_3/layer_normalization_16/gamma:0' shape=(128,) dtype=float32>\n",
      "<tf.Variable 'Decoder/Decoder_layer_3/layer_normalization_16/beta:0' shape=(128,) dtype=float32>\n",
      "<tf.Variable 'Decoder/Decoder_layer_4/mha_1/fully_connected/weights:0' shape=(128, 128) dtype=float32_ref>\n",
      "<tf.Variable 'Decoder/Decoder_layer_4/mha_1/fully_connected/biases:0' shape=(128,) dtype=float32_ref>\n",
      "<tf.Variable 'Decoder/Decoder_layer_4/mha_1/fully_connected_1/weights:0' shape=(128, 128) dtype=float32_ref>\n",
      "<tf.Variable 'Decoder/Decoder_layer_4/mha_1/fully_connected_1/biases:0' shape=(128,) dtype=float32_ref>\n",
      "<tf.Variable 'Decoder/Decoder_layer_4/mha_1/fully_connected_2/weights:0' shape=(128, 128) dtype=float32_ref>\n",
      "<tf.Variable 'Decoder/Decoder_layer_4/mha_1/fully_connected_2/biases:0' shape=(128,) dtype=float32_ref>\n",
      "<tf.Variable 'Decoder/Decoder_layer_4/mha_1/fully_connected_3/weights:0' shape=(128, 128) dtype=float32_ref>\n",
      "<tf.Variable 'Decoder/Decoder_layer_4/mha_1/fully_connected_3/biases:0' shape=(128,) dtype=float32_ref>\n",
      "<tf.Variable 'Decoder/Decoder_layer_4/layer_normalization_17/gamma:0' shape=(128,) dtype=float32>\n",
      "<tf.Variable 'Decoder/Decoder_layer_4/layer_normalization_17/beta:0' shape=(128,) dtype=float32>\n",
      "<tf.Variable 'Decoder/Decoder_layer_4/mha_2/fully_connected/weights:0' shape=(128, 128) dtype=float32_ref>\n",
      "<tf.Variable 'Decoder/Decoder_layer_4/mha_2/fully_connected/biases:0' shape=(128,) dtype=float32_ref>\n",
      "<tf.Variable 'Decoder/Decoder_layer_4/mha_2/fully_connected_1/weights:0' shape=(128, 128) dtype=float32_ref>\n",
      "<tf.Variable 'Decoder/Decoder_layer_4/mha_2/fully_connected_1/biases:0' shape=(128,) dtype=float32_ref>\n",
      "<tf.Variable 'Decoder/Decoder_layer_4/mha_2/fully_connected_2/weights:0' shape=(128, 128) dtype=float32_ref>\n",
      "<tf.Variable 'Decoder/Decoder_layer_4/mha_2/fully_connected_2/biases:0' shape=(128,) dtype=float32_ref>\n",
      "<tf.Variable 'Decoder/Decoder_layer_4/mha_2/fully_connected_3/weights:0' shape=(128, 128) dtype=float32_ref>\n",
      "<tf.Variable 'Decoder/Decoder_layer_4/mha_2/fully_connected_3/biases:0' shape=(128,) dtype=float32_ref>\n",
      "<tf.Variable 'Decoder/Decoder_layer_4/layer_normalization_18/gamma:0' shape=(128,) dtype=float32>\n",
      "<tf.Variable 'Decoder/Decoder_layer_4/layer_normalization_18/beta:0' shape=(128,) dtype=float32>\n",
      "<tf.Variable 'Decoder/Decoder_layer_4/pwffn/fully_connected/weights:0' shape=(128, 512) dtype=float32_ref>\n",
      "<tf.Variable 'Decoder/Decoder_layer_4/pwffn/fully_connected/biases:0' shape=(512,) dtype=float32_ref>\n",
      "<tf.Variable 'Decoder/Decoder_layer_4/pwffn/fully_connected_1/weights:0' shape=(512, 128) dtype=float32_ref>\n",
      "<tf.Variable 'Decoder/Decoder_layer_4/pwffn/fully_connected_1/biases:0' shape=(128,) dtype=float32_ref>\n",
      "<tf.Variable 'Decoder/Decoder_layer_4/layer_normalization_19/gamma:0' shape=(128,) dtype=float32>\n",
      "<tf.Variable 'Decoder/Decoder_layer_4/layer_normalization_19/beta:0' shape=(128,) dtype=float32>\n",
      "<tf.Variable 'fully_connected/weights:0' shape=(128, 8089) dtype=float32_ref>\n",
      "<tf.Variable 'fully_connected/biases:0' shape=(8089,) dtype=float32_ref>\n",
      "total number of trainable parameters:  4981913\n"
     ]
    }
   ],
   "source": [
    "model = transformer_model(num_layers = num_layers, d_model = d_model, num_heads = num_heads, d_ff = d_ff, \n",
    "                          input_vocab_size = input_vocab_size, target_vocab_size = target_vocab_size, \n",
    "                          pe_input = input_vocab_size, pe_target = target_vocab_size, rate = dropout_rate)\n",
    "\n",
    "with tf.Session() as sess:\n",
    "    sess.run(tf.global_variables_initializer())\n",
    "\n",
    "    total_parameters = 0\n",
    "    for variable in tf.trainable_variables():\n",
    "        print(variable)\n",
    "        # shape is an array of tf.Dimension\n",
    "        shape = variable.get_shape()\n",
    "        variable_parameters = 1\n",
    "        for dim in shape:\n",
    "            variable_parameters *= dim.value\n",
    "\n",
    "        total_parameters += variable_parameters\n",
    "    print('total number of trainable parameters: ',total_parameters)"
   ]
  }
 ],
 "metadata": {
  "coursera": {
   "course_slug": "nlp-sequence-models",
   "graded_item_id": "n16CQ",
   "launcher_item_id": "npjGi"
  },
  "kernelspec": {
   "display_name": "Python 3",
   "language": "python",
   "name": "python3"
  },
  "language_info": {
   "codemirror_mode": {
    "name": "ipython",
    "version": 3
   },
   "file_extension": ".py",
   "mimetype": "text/x-python",
   "name": "python",
   "nbconvert_exporter": "python",
   "pygments_lexer": "ipython3",
   "version": "3.6.10"
  }
 },
 "nbformat": 4,
 "nbformat_minor": 2
}
